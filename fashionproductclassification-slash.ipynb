{
 "cells": [
  {
   "cell_type": "markdown",
   "id": "fff62e54",
   "metadata": {
    "_cell_guid": "b1076dfc-b9ad-4769-8c92-a6c4dae69d19",
    "_uuid": "8f2839f25d086af736a60e9eeb907d3b93b6e0e5",
    "papermill": {
     "duration": 0.008113,
     "end_time": "2024-03-13T15:03:31.881795",
     "exception": false,
     "start_time": "2024-03-13T15:03:31.873682",
     "status": "completed"
    },
    "tags": []
   },
   "source": [
    "# **My name is Yahia Mohamed Nabil,**\n",
    "***This notebook is for slash's AI internship***\n",
    "I used a public dataset similar to what the problem you've gave to me which is fashion product images classification, There's many approaches I can solve this problem with but I decided to go with (**CNN**) as they can learn and extract features from raw pixel data without any preprocessing or feature engineering."
   ]
  },
  {
   "cell_type": "markdown",
   "id": "0a8d67de",
   "metadata": {
    "papermill": {
     "duration": 0.00707,
     "end_time": "2024-03-13T15:03:31.896847",
     "exception": false,
     "start_time": "2024-03-13T15:03:31.889777",
     "status": "completed"
    },
    "tags": []
   },
   "source": [
    "# **First we setup our system and import all the important libraries**"
   ]
  },
  {
   "cell_type": "code",
   "execution_count": 1,
   "id": "d6fd0c06",
   "metadata": {
    "execution": {
     "iopub.execute_input": "2024-03-13T15:03:31.914804Z",
     "iopub.status.busy": "2024-03-13T15:03:31.914253Z",
     "iopub.status.idle": "2024-03-13T15:03:50.976636Z",
     "shell.execute_reply": "2024-03-13T15:03:50.975244Z"
    },
    "papermill": {
     "duration": 19.075277,
     "end_time": "2024-03-13T15:03:50.980060",
     "exception": false,
     "start_time": "2024-03-13T15:03:31.904783",
     "status": "completed"
    },
    "tags": []
   },
   "outputs": [
    {
     "name": "stderr",
     "output_type": "stream",
     "text": [
      "2024-03-13 15:03:37.181435: E external/local_xla/xla/stream_executor/cuda/cuda_dnn.cc:9261] Unable to register cuDNN factory: Attempting to register factory for plugin cuDNN when one has already been registered\n",
      "2024-03-13 15:03:37.181620: E external/local_xla/xla/stream_executor/cuda/cuda_fft.cc:607] Unable to register cuFFT factory: Attempting to register factory for plugin cuFFT when one has already been registered\n",
      "2024-03-13 15:03:37.350678: E external/local_xla/xla/stream_executor/cuda/cuda_blas.cc:1515] Unable to register cuBLAS factory: Attempting to register factory for plugin cuBLAS when one has already been registered\n"
     ]
    }
   ],
   "source": [
    "# essential libraries\n",
    "import numpy as np\n",
    "import pandas as pd\n",
    "\n",
    "#visualization libraries\n",
    "import seaborn as sns\n",
    "from matplotlib import pyplot as plt\n",
    "\n",
    "# ML/DL libraries\n",
    "import tensorflow as tf\n",
    "from tensorflow.keras import layers\n",
    "from sklearn.preprocessing import LabelEncoder\n",
    "from sklearn.model_selection import train_test_split\n",
    "\n",
    "import math\n",
    "import os\n",
    "from joblib import Parallel, delayed\n",
    "from PIL import Image"
   ]
  },
  {
   "cell_type": "markdown",
   "id": "cddbdde1",
   "metadata": {
    "papermill": {
     "duration": 0.00721,
     "end_time": "2024-03-13T15:03:50.995093",
     "exception": false,
     "start_time": "2024-03-13T15:03:50.987883",
     "status": "completed"
    },
    "tags": []
   },
   "source": [
    "# **Reading the data from the csv file**"
   ]
  },
  {
   "cell_type": "code",
   "execution_count": 2,
   "id": "121c8355",
   "metadata": {
    "execution": {
     "iopub.execute_input": "2024-03-13T15:03:51.013269Z",
     "iopub.status.busy": "2024-03-13T15:03:51.012274Z",
     "iopub.status.idle": "2024-03-13T15:03:51.305424Z",
     "shell.execute_reply": "2024-03-13T15:03:51.304155Z"
    },
    "papermill": {
     "duration": 0.305862,
     "end_time": "2024-03-13T15:03:51.308491",
     "exception": false,
     "start_time": "2024-03-13T15:03:51.002629",
     "status": "completed"
    },
    "tags": []
   },
   "outputs": [
    {
     "data": {
      "text/html": [
       "<div>\n",
       "<style scoped>\n",
       "    .dataframe tbody tr th:only-of-type {\n",
       "        vertical-align: middle;\n",
       "    }\n",
       "\n",
       "    .dataframe tbody tr th {\n",
       "        vertical-align: top;\n",
       "    }\n",
       "\n",
       "    .dataframe thead th {\n",
       "        text-align: right;\n",
       "    }\n",
       "</style>\n",
       "<table border=\"1\" class=\"dataframe\">\n",
       "  <thead>\n",
       "    <tr style=\"text-align: right;\">\n",
       "      <th></th>\n",
       "      <th>id</th>\n",
       "      <th>gender</th>\n",
       "      <th>masterCategory</th>\n",
       "      <th>subCategory</th>\n",
       "      <th>articleType</th>\n",
       "      <th>baseColour</th>\n",
       "      <th>season</th>\n",
       "      <th>year</th>\n",
       "      <th>usage</th>\n",
       "      <th>productDisplayName</th>\n",
       "    </tr>\n",
       "  </thead>\n",
       "  <tbody>\n",
       "    <tr>\n",
       "      <th>0</th>\n",
       "      <td>15970</td>\n",
       "      <td>Men</td>\n",
       "      <td>Apparel</td>\n",
       "      <td>Topwear</td>\n",
       "      <td>Shirts</td>\n",
       "      <td>Navy Blue</td>\n",
       "      <td>Fall</td>\n",
       "      <td>2011</td>\n",
       "      <td>Casual</td>\n",
       "      <td>Turtle Check Men Navy Blue Shirt</td>\n",
       "    </tr>\n",
       "    <tr>\n",
       "      <th>1</th>\n",
       "      <td>39386</td>\n",
       "      <td>Men</td>\n",
       "      <td>Apparel</td>\n",
       "      <td>Bottomwear</td>\n",
       "      <td>Jeans</td>\n",
       "      <td>Blue</td>\n",
       "      <td>Summer</td>\n",
       "      <td>2012</td>\n",
       "      <td>Casual</td>\n",
       "      <td>Peter England Men Party Blue Jeans</td>\n",
       "    </tr>\n",
       "    <tr>\n",
       "      <th>2</th>\n",
       "      <td>59263</td>\n",
       "      <td>Women</td>\n",
       "      <td>Accessories</td>\n",
       "      <td>Watches</td>\n",
       "      <td>Watches</td>\n",
       "      <td>Silver</td>\n",
       "      <td>Winter</td>\n",
       "      <td>2016</td>\n",
       "      <td>Casual</td>\n",
       "      <td>Titan Women Silver Watch</td>\n",
       "    </tr>\n",
       "    <tr>\n",
       "      <th>3</th>\n",
       "      <td>21379</td>\n",
       "      <td>Men</td>\n",
       "      <td>Apparel</td>\n",
       "      <td>Bottomwear</td>\n",
       "      <td>Track Pants</td>\n",
       "      <td>Black</td>\n",
       "      <td>Fall</td>\n",
       "      <td>2011</td>\n",
       "      <td>Casual</td>\n",
       "      <td>Manchester United Men Solid Black Track Pants</td>\n",
       "    </tr>\n",
       "    <tr>\n",
       "      <th>4</th>\n",
       "      <td>53759</td>\n",
       "      <td>Men</td>\n",
       "      <td>Apparel</td>\n",
       "      <td>Topwear</td>\n",
       "      <td>Tshirts</td>\n",
       "      <td>Grey</td>\n",
       "      <td>Summer</td>\n",
       "      <td>2012</td>\n",
       "      <td>Casual</td>\n",
       "      <td>Puma Men Grey T-shirt</td>\n",
       "    </tr>\n",
       "  </tbody>\n",
       "</table>\n",
       "</div>"
      ],
      "text/plain": [
       "      id gender masterCategory subCategory  articleType baseColour  season  \\\n",
       "0  15970    Men        Apparel     Topwear       Shirts  Navy Blue    Fall   \n",
       "1  39386    Men        Apparel  Bottomwear        Jeans       Blue  Summer   \n",
       "2  59263  Women    Accessories     Watches      Watches     Silver  Winter   \n",
       "3  21379    Men        Apparel  Bottomwear  Track Pants      Black    Fall   \n",
       "4  53759    Men        Apparel     Topwear      Tshirts       Grey  Summer   \n",
       "\n",
       "   year   usage                             productDisplayName  \n",
       "0  2011  Casual               Turtle Check Men Navy Blue Shirt  \n",
       "1  2012  Casual             Peter England Men Party Blue Jeans  \n",
       "2  2016  Casual                       Titan Women Silver Watch  \n",
       "3  2011  Casual  Manchester United Men Solid Black Track Pants  \n",
       "4  2012  Casual                          Puma Men Grey T-shirt  "
      ]
     },
     "execution_count": 2,
     "metadata": {},
     "output_type": "execute_result"
    }
   ],
   "source": [
    "import csv\n",
    "\n",
    "styles_path = \"/kaggle/input/fashion-product-images-dataset/fashion-dataset/styles.csv\"\n",
    "\n",
    "with open(styles_path, 'r') as f:\n",
    "    reader = csv.reader(f)\n",
    "    columns = next(reader)\n",
    "    rows = [row for row in reader if len(row) == len(columns)]\n",
    "\n",
    "stylesData = pd.DataFrame(rows, columns=columns)\n",
    "stylesData.head()\n",
    "#where id is the image name"
   ]
  },
  {
   "cell_type": "markdown",
   "id": "e896edea",
   "metadata": {
    "papermill": {
     "duration": 0.00762,
     "end_time": "2024-03-13T15:03:51.324231",
     "exception": false,
     "start_time": "2024-03-13T15:03:51.316611",
     "status": "completed"
    },
    "tags": []
   },
   "source": [
    "# **Droping features that are not important to our classification problem**"
   ]
  },
  {
   "cell_type": "code",
   "execution_count": 3,
   "id": "922c0c03",
   "metadata": {
    "execution": {
     "iopub.execute_input": "2024-03-13T15:03:51.342448Z",
     "iopub.status.busy": "2024-03-13T15:03:51.341910Z",
     "iopub.status.idle": "2024-03-13T15:03:51.365792Z",
     "shell.execute_reply": "2024-03-13T15:03:51.364318Z"
    },
    "papermill": {
     "duration": 0.036666,
     "end_time": "2024-03-13T15:03:51.368963",
     "exception": false,
     "start_time": "2024-03-13T15:03:51.332297",
     "status": "completed"
    },
    "tags": []
   },
   "outputs": [
    {
     "data": {
      "text/html": [
       "<div>\n",
       "<style scoped>\n",
       "    .dataframe tbody tr th:only-of-type {\n",
       "        vertical-align: middle;\n",
       "    }\n",
       "\n",
       "    .dataframe tbody tr th {\n",
       "        vertical-align: top;\n",
       "    }\n",
       "\n",
       "    .dataframe thead th {\n",
       "        text-align: right;\n",
       "    }\n",
       "</style>\n",
       "<table border=\"1\" class=\"dataframe\">\n",
       "  <thead>\n",
       "    <tr style=\"text-align: right;\">\n",
       "      <th></th>\n",
       "      <th>id</th>\n",
       "      <th>masterCategory</th>\n",
       "    </tr>\n",
       "  </thead>\n",
       "  <tbody>\n",
       "    <tr>\n",
       "      <th>0</th>\n",
       "      <td>15970</td>\n",
       "      <td>Apparel</td>\n",
       "    </tr>\n",
       "    <tr>\n",
       "      <th>1</th>\n",
       "      <td>39386</td>\n",
       "      <td>Apparel</td>\n",
       "    </tr>\n",
       "    <tr>\n",
       "      <th>2</th>\n",
       "      <td>59263</td>\n",
       "      <td>Accessories</td>\n",
       "    </tr>\n",
       "    <tr>\n",
       "      <th>3</th>\n",
       "      <td>21379</td>\n",
       "      <td>Apparel</td>\n",
       "    </tr>\n",
       "    <tr>\n",
       "      <th>4</th>\n",
       "      <td>53759</td>\n",
       "      <td>Apparel</td>\n",
       "    </tr>\n",
       "  </tbody>\n",
       "</table>\n",
       "</div>"
      ],
      "text/plain": [
       "      id masterCategory\n",
       "0  15970        Apparel\n",
       "1  39386        Apparel\n",
       "2  59263    Accessories\n",
       "3  21379        Apparel\n",
       "4  53759        Apparel"
      ]
     },
     "execution_count": 3,
     "metadata": {},
     "output_type": "execute_result"
    }
   ],
   "source": [
    "stylesData.drop(\n",
    "    ['gender', 'articleType', 'baseColour', 'season', 'year', 'usage', 'productDisplayName','subCategory'],\n",
    "    axis = 1,\n",
    "    inplace = True\n",
    ")\n",
    "stylesData.head()"
   ]
  },
  {
   "cell_type": "code",
   "execution_count": 4,
   "id": "3eb3463b",
   "metadata": {
    "execution": {
     "iopub.execute_input": "2024-03-13T15:03:51.387807Z",
     "iopub.status.busy": "2024-03-13T15:03:51.387321Z",
     "iopub.status.idle": "2024-03-13T15:03:51.407987Z",
     "shell.execute_reply": "2024-03-13T15:03:51.406904Z"
    },
    "papermill": {
     "duration": 0.033571,
     "end_time": "2024-03-13T15:03:51.410851",
     "exception": false,
     "start_time": "2024-03-13T15:03:51.377280",
     "status": "completed"
    },
    "tags": []
   },
   "outputs": [],
   "source": [
    "NUM_CORES = os.cpu_count()\n",
    "NUMBER_UNIQUE_CATEGORY = stylesData['masterCategory'].nunique()\n",
    "BATCH_SIZE = 32\n",
    "SCALING_SIZE = (64, 64)\n",
    "SEED_VALUE = 42"
   ]
  },
  {
   "cell_type": "markdown",
   "id": "35bb962a",
   "metadata": {
    "papermill": {
     "duration": 0.008065,
     "end_time": "2024-03-13T15:03:51.427322",
     "exception": false,
     "start_time": "2024-03-13T15:03:51.419257",
     "status": "completed"
    },
    "tags": []
   },
   "source": [
    "# **gain some important measures from the data**"
   ]
  },
  {
   "cell_type": "code",
   "execution_count": 5,
   "id": "e6ec11c5",
   "metadata": {
    "execution": {
     "iopub.execute_input": "2024-03-13T15:03:51.446249Z",
     "iopub.status.busy": "2024-03-13T15:03:51.445707Z",
     "iopub.status.idle": "2024-03-13T15:03:51.480052Z",
     "shell.execute_reply": "2024-03-13T15:03:51.478585Z"
    },
    "papermill": {
     "duration": 0.048893,
     "end_time": "2024-03-13T15:03:51.484715",
     "exception": false,
     "start_time": "2024-03-13T15:03:51.435822",
     "status": "completed"
    },
    "tags": []
   },
   "outputs": [
    {
     "name": "stdout",
     "output_type": "stream",
     "text": [
      "Unique classes: ['Apparel' 'Accessories' 'Footwear' 'Personal Care' 'Free Items'\n",
      " 'Sporting Goods' 'Home']\n",
      "Count of items under each class:\n",
      " masterCategory\n",
      "Apparel           21397\n",
      "Accessories       11274\n",
      "Footwear           9219\n",
      "Personal Care      2403\n",
      "Free Items          105\n",
      "Sporting Goods       25\n",
      "Home                  1\n",
      "Name: count, dtype: int64\n"
     ]
    }
   ],
   "source": [
    "# Get unique classes\n",
    "unique_classes = stylesData['masterCategory'].unique()\n",
    "print(\"Unique classes:\", unique_classes)\n",
    "\n",
    "# Get count of items under each class\n",
    "class_counts = stylesData['masterCategory'].value_counts()\n",
    "print(\"Count of items under each class:\\n\", class_counts)"
   ]
  },
  {
   "cell_type": "code",
   "execution_count": 6,
   "id": "b780b103",
   "metadata": {
    "execution": {
     "iopub.execute_input": "2024-03-13T15:03:51.505431Z",
     "iopub.status.busy": "2024-03-13T15:03:51.504878Z",
     "iopub.status.idle": "2024-03-13T15:03:51.797597Z",
     "shell.execute_reply": "2024-03-13T15:03:51.796073Z"
    },
    "papermill": {
     "duration": 0.312537,
     "end_time": "2024-03-13T15:03:51.805895",
     "exception": false,
     "start_time": "2024-03-13T15:03:51.493358",
     "status": "completed"
    },
    "tags": []
   },
   "outputs": [
    {
     "data": {
      "image/png": "[encoded data removed]",
      "text/plain": [
       "<Figure size 640x480 with 1 Axes>"
      ]
     },
     "metadata": {},
     "output_type": "display_data"
    },
    {
     "name": "stdout",
     "output_type": "stream",
     "text": [
      "this are the percentages for being clear\n",
      "masterCategory\n",
      "Apparel           48.165406\n",
      "Accessories       25.378174\n",
      "Footwear          20.752296\n",
      "Personal Care      5.409238\n",
      "Free Items         0.236359\n",
      "Sporting Goods     0.056276\n",
      "Home               0.002251\n",
      "Name: proportion, dtype: float64\n"
     ]
    }
   ],
   "source": [
    "# Calculate the percentage of each category\n",
    "category_percentage = stylesData['masterCategory'].value_counts(normalize=True) * 100\n",
    "\n",
    "# Create a pie chart\n",
    "fig, ax = plt.subplots()\n",
    "ax.pie(category_percentage, labels = category_percentage.index, autopct='%1.1f%%')\n",
    "ax.set_title('Percentage of data for each category')\n",
    "plt.show()\n",
    "print(f\"this are the percentages for being clear\\n{category_percentage}\")"
   ]
  },
  {
   "cell_type": "markdown",
   "id": "d2f16d86",
   "metadata": {
    "papermill": {
     "duration": 0.008738,
     "end_time": "2024-03-13T15:03:51.823749",
     "exception": false,
     "start_time": "2024-03-13T15:03:51.815011",
     "status": "completed"
    },
    "tags": []
   },
   "source": [
    "# **Encoding the labels**"
   ]
  },
  {
   "cell_type": "code",
   "execution_count": 7,
   "id": "4aad1118",
   "metadata": {
    "execution": {
     "iopub.execute_input": "2024-03-13T15:03:51.844509Z",
     "iopub.status.busy": "2024-03-13T15:03:51.843946Z",
     "iopub.status.idle": "2024-03-13T15:03:51.874180Z",
     "shell.execute_reply": "2024-03-13T15:03:51.872700Z"
    },
    "papermill": {
     "duration": 0.044404,
     "end_time": "2024-03-13T15:03:51.877194",
     "exception": false,
     "start_time": "2024-03-13T15:03:51.832790",
     "status": "completed"
    },
    "tags": []
   },
   "outputs": [
    {
     "data": {
      "text/plain": [
       "{0: 'Accessories',\n",
       " 1: 'Apparel',\n",
       " 2: 'Footwear',\n",
       " 3: 'Free Items',\n",
       " 4: 'Home',\n",
       " 5: 'Personal Care',\n",
       " 6: 'Sporting Goods'}"
      ]
     },
     "execution_count": 7,
     "metadata": {},
     "output_type": "execute_result"
    }
   ],
   "source": [
    "# label encode master category\n",
    "encoder = LabelEncoder()\n",
    "stylesData['masterCategory'] = encoder.fit_transform(stylesData['masterCategory'])\n",
    "decoder_dict = {}\n",
    "for index, _class in enumerate(encoder.classes_):\n",
    "    decoder_dict[index] = _class\n",
    "\n",
    "decoder_dict"
   ]
  },
  {
   "cell_type": "markdown",
   "id": "1f997bfc",
   "metadata": {
    "papermill": {
     "duration": 0.009152,
     "end_time": "2024-03-13T15:03:51.895945",
     "exception": false,
     "start_time": "2024-03-13T15:03:51.886793",
     "status": "completed"
    },
    "tags": []
   },
   "source": [
    "# **Spliting data and applying some preprocessing**"
   ]
  },
  {
   "cell_type": "code",
   "execution_count": 8,
   "id": "a2c78656",
   "metadata": {
    "execution": {
     "iopub.execute_input": "2024-03-13T15:03:51.918292Z",
     "iopub.status.busy": "2024-03-13T15:03:51.917374Z",
     "iopub.status.idle": "2024-03-13T15:03:51.971980Z",
     "shell.execute_reply": "2024-03-13T15:03:51.970494Z"
    },
    "papermill": {
     "duration": 0.069532,
     "end_time": "2024-03-13T15:03:51.975096",
     "exception": false,
     "start_time": "2024-03-13T15:03:51.905564",
     "status": "completed"
    },
    "tags": []
   },
   "outputs": [
    {
     "name": "stdout",
     "output_type": "stream",
     "text": [
      "Shape of x_train: (28431,)\n",
      "Shape of x_test: (8885,)\n",
      "Shape of y_train: (28431,)\n",
      "Shape of y_test: (8885,)\n",
      "Shape of x_val: (7108,)\n",
      "Shape of y_val: (7108,)\n"
     ]
    },
    {
     "data": {
      "text/html": [
       "<div>\n",
       "<style scoped>\n",
       "    .dataframe tbody tr th:only-of-type {\n",
       "        vertical-align: middle;\n",
       "    }\n",
       "\n",
       "    .dataframe tbody tr th {\n",
       "        vertical-align: top;\n",
       "    }\n",
       "\n",
       "    .dataframe thead th {\n",
       "        text-align: right;\n",
       "    }\n",
       "</style>\n",
       "<table border=\"1\" class=\"dataframe\">\n",
       "  <thead>\n",
       "    <tr style=\"text-align: right;\">\n",
       "      <th></th>\n",
       "      <th>id</th>\n",
       "    </tr>\n",
       "  </thead>\n",
       "  <tbody>\n",
       "    <tr>\n",
       "      <th>0</th>\n",
       "      <td>38038</td>\n",
       "    </tr>\n",
       "    <tr>\n",
       "      <th>1</th>\n",
       "      <td>56432</td>\n",
       "    </tr>\n",
       "    <tr>\n",
       "      <th>2</th>\n",
       "      <td>5953</td>\n",
       "    </tr>\n",
       "    <tr>\n",
       "      <th>3</th>\n",
       "      <td>46095</td>\n",
       "    </tr>\n",
       "    <tr>\n",
       "      <th>4</th>\n",
       "      <td>41353</td>\n",
       "    </tr>\n",
       "  </tbody>\n",
       "</table>\n",
       "</div>"
      ],
      "text/plain": [
       "      id\n",
       "0  38038\n",
       "1  56432\n",
       "2   5953\n",
       "3  46095\n",
       "4  41353"
      ]
     },
     "execution_count": 8,
     "metadata": {},
     "output_type": "execute_result"
    }
   ],
   "source": [
    "# split into train , validate and test \n",
    "x_train, x_test, y_train, y_test = train_test_split(stylesData['id'],stylesData['masterCategory'],test_size = 0.2,random_state = 42)\n",
    "x_train, x_val, y_train, y_val = train_test_split(x_train,y_train,test_size = 0.2,random_state = 42)\n",
    "print(f\"Shape of x_train: {x_train.shape}\")\n",
    "print(f\"Shape of x_test: {x_test.shape}\")\n",
    "print(f\"Shape of y_train: {y_train.shape}\")\n",
    "print(f\"Shape of y_test: {y_test.shape}\")\n",
    "print(f\"Shape of x_val: {x_val.shape}\")\n",
    "print(f\"Shape of y_val: {y_val.shape}\")\n",
    "\n",
    "# reset indices for all datasets\n",
    "x_train = x_train.reset_index()\n",
    "x_train.drop(\"index\", axis = 1, inplace = True)\n",
    "\n",
    "x_test = x_test.reset_index()\n",
    "x_test.drop(\"index\", axis = 1, inplace = True)\n",
    "\n",
    "x_val = x_val.reset_index()\n",
    "x_val.drop(\"index\", axis = 1, inplace = True)\n",
    "\n",
    "y_train = y_train.reset_index()\n",
    "y_train.drop(\"index\", axis = 1, inplace = True)\n",
    "\n",
    "y_test = y_test.reset_index()\n",
    "y_test.drop(\"index\", axis = 1, inplace = True)\n",
    "\n",
    "y_val = y_val.reset_index()\n",
    "y_val.drop(\"index\", axis = 1, inplace = True)\n",
    "\n",
    "x_train.head()"
   ]
  },
  {
   "cell_type": "code",
   "execution_count": 9,
   "id": "8093295b",
   "metadata": {
    "execution": {
     "iopub.execute_input": "2024-03-13T15:03:51.997182Z",
     "iopub.status.busy": "2024-03-13T15:03:51.996374Z",
     "iopub.status.idle": "2024-03-13T15:03:52.041411Z",
     "shell.execute_reply": "2024-03-13T15:03:52.040110Z"
    },
    "papermill": {
     "duration": 0.059862,
     "end_time": "2024-03-13T15:03:52.044429",
     "exception": false,
     "start_time": "2024-03-13T15:03:51.984567",
     "status": "completed"
    },
    "tags": []
   },
   "outputs": [
    {
     "name": "stdout",
     "output_type": "stream",
     "text": [
      "<class 'pandas.core.frame.DataFrame'>\n",
      "RangeIndex: 28431 entries, 0 to 28430\n",
      "Data columns (total 1 columns):\n",
      " #   Column  Non-Null Count  Dtype \n",
      "---  ------  --------------  ----- \n",
      " 0   id      28431 non-null  object\n",
      "dtypes: object(1)\n",
      "memory usage: 222.2+ KB\n"
     ]
    }
   ],
   "source": [
    "# convert all the ids to string instead of int\n",
    "x_train['id'] = x_train['id'].apply(str)\n",
    "x_test['id'] = x_test['id'].apply(str)\n",
    "x_val['id'] = x_val['id'].apply(str)\n",
    "\n",
    "x_train.info()"
   ]
  },
  {
   "cell_type": "markdown",
   "id": "d749f74e",
   "metadata": {
    "papermill": {
     "duration": 0.009302,
     "end_time": "2024-03-13T15:03:52.063427",
     "exception": false,
     "start_time": "2024-03-13T15:03:52.054125",
     "status": "completed"
    },
    "tags": []
   },
   "source": [
    "# **Loading images and adding the labels to them**"
   ]
  },
  {
   "cell_type": "code",
   "execution_count": 10,
   "id": "acebb4f1",
   "metadata": {
    "execution": {
     "iopub.execute_input": "2024-03-13T15:03:52.085553Z",
     "iopub.status.busy": "2024-03-13T15:03:52.084690Z",
     "iopub.status.idle": "2024-03-13T15:06:31.150477Z",
     "shell.execute_reply": "2024-03-13T15:06:31.148770Z"
    },
    "papermill": {
     "duration": 159.080802,
     "end_time": "2024-03-13T15:06:31.153968",
     "exception": false,
     "start_time": "2024-03-13T15:03:52.073166",
     "status": "completed"
    },
    "tags": []
   },
   "outputs": [],
   "source": [
    "#removing the ids and labels which don't have corresponding images for the train validate test sets\n",
    "for _id in x_train['id']:\n",
    "    path = \"/kaggle/input/fashion-product-images-dataset/fashion-dataset/images/\" + _id + \".jpg\"\n",
    "    if(not os.path.exists(path)):\n",
    "        index = x_train[x_train['id'] == _id].index\n",
    "        x_train.drop(index, inplace = True)\n",
    "        y_train.drop(index, inplace = True)\n",
    "        \n",
    "for _id in x_val['id']:\n",
    "    path = \"/kaggle/input/fashion-product-images-dataset/fashion-dataset/images/\" + _id + \".jpg\"\n",
    "    if(not os.path.exists(path)):\n",
    "        index = x_val[x_val['id'] == _id].index\n",
    "        x_val.drop(index, inplace = True)\n",
    "        y_val.drop(index, inplace = True)\n",
    "\n",
    "for _id in x_test['id']:\n",
    "    path = \"/kaggle/input/fashion-product-images-dataset/fashion-dataset/images/\" + _id + \".jpg\"\n",
    "    if(not os.path.exists(path)):\n",
    "        index = x_test[x_test['id'] == _id].index\n",
    "        x_test.drop(index, inplace = True)\n",
    "        y_test.drop(index, inplace = True)"
   ]
  },
  {
   "cell_type": "code",
   "execution_count": 11,
   "id": "435c8c93",
   "metadata": {
    "execution": {
     "iopub.execute_input": "2024-03-13T15:06:31.177431Z",
     "iopub.status.busy": "2024-03-13T15:06:31.176136Z",
     "iopub.status.idle": "2024-03-13T15:06:31.186252Z",
     "shell.execute_reply": "2024-03-13T15:06:31.185196Z"
    },
    "papermill": {
     "duration": 0.024535,
     "end_time": "2024-03-13T15:06:31.189217",
     "exception": false,
     "start_time": "2024-03-13T15:06:31.164682",
     "status": "completed"
    },
    "tags": []
   },
   "outputs": [],
   "source": [
    "def generate_batches(x, batch_size):\n",
    "    indices = list(range(len(x)))\n",
    "    batch_indices = [(start, start + batch_size) for start in indices[::batch_size]]\n",
    "    return batch_indices\n",
    "\n",
    "training_batches=generate_batches(x_train,BATCH_SIZE)\n",
    "testing_batches=generate_batches(x_test,BATCH_SIZE)\n",
    "val_batches=generate_batches(x_val,BATCH_SIZE)"
   ]
  },
  {
   "cell_type": "code",
   "execution_count": 12,
   "id": "afe6ab63",
   "metadata": {
    "execution": {
     "iopub.execute_input": "2024-03-13T15:06:31.213416Z",
     "iopub.status.busy": "2024-03-13T15:06:31.212598Z",
     "iopub.status.idle": "2024-03-13T15:18:40.446461Z",
     "shell.execute_reply": "2024-03-13T15:18:40.444666Z"
    },
    "papermill": {
     "duration": 729.249504,
     "end_time": "2024-03-13T15:18:40.450335",
     "exception": false,
     "start_time": "2024-03-13T15:06:31.200831",
     "status": "completed"
    },
    "tags": []
   },
   "outputs": [
    {
     "name": "stderr",
     "output_type": "stream",
     "text": [
      "/opt/conda/lib/python3.10/site-packages/joblib/externals/loky/backend/fork_exec.py:38: RuntimeWarning: os.fork() was called. os.fork() is incompatible with multithreaded code, and JAX is multithreaded, so this will likely lead to a deadlock.\n",
      "  pid = os.fork()\n",
      "/opt/conda/lib/python3.10/multiprocessing/popen_fork.py:66: RuntimeWarning: os.fork() was called. os.fork() is incompatible with multithreaded code, and JAX is multithreaded, so this will likely lead to a deadlock.\n",
      "  self.pid = os.fork()\n",
      "[Parallel(n_jobs=4)]: Using backend MultiprocessingBackend with 4 concurrent workers.\n",
      "[Parallel(n_jobs=4)]: Batch computation too fast (0.07425260543823242s.) Setting batch_size=2.\n",
      "[Parallel(n_jobs=4)]: Done   5 tasks      | elapsed:    0.6s\n",
      "[Parallel(n_jobs=4)]: Done  12 tasks      | elapsed:    0.9s\n",
      "[Parallel(n_jobs=4)]: Done  26 tasks      | elapsed:    1.2s\n",
      "[Parallel(n_jobs=4)]: Done  40 tasks      | elapsed:    1.3s\n",
      "[Parallel(n_jobs=4)]: Done  58 tasks      | elapsed:    1.6s\n",
      "[Parallel(n_jobs=4)]: Done  76 tasks      | elapsed:    1.9s\n",
      "[Parallel(n_jobs=4)]: Done  98 tasks      | elapsed:    2.3s\n",
      "[Parallel(n_jobs=4)]: Done 120 tasks      | elapsed:    2.7s\n",
      "[Parallel(n_jobs=4)]: Done 146 tasks      | elapsed:    3.1s\n",
      "[Parallel(n_jobs=4)]: Done 172 tasks      | elapsed:    3.6s\n",
      "[Parallel(n_jobs=4)]: Done 202 tasks      | elapsed:    4.0s\n",
      "[Parallel(n_jobs=4)]: Done 232 tasks      | elapsed:    4.5s\n",
      "[Parallel(n_jobs=4)]: Done 266 tasks      | elapsed:    5.0s\n",
      "[Parallel(n_jobs=4)]: Done 300 tasks      | elapsed:    5.5s\n",
      "[Parallel(n_jobs=4)]: Done 338 tasks      | elapsed:    6.1s\n",
      "[Parallel(n_jobs=4)]: Done 376 tasks      | elapsed:    6.7s\n",
      "[Parallel(n_jobs=4)]: Done 418 tasks      | elapsed:    7.3s\n",
      "[Parallel(n_jobs=4)]: Done 460 tasks      | elapsed:    8.0s\n",
      "[Parallel(n_jobs=4)]: Done 506 tasks      | elapsed:    8.8s\n",
      "[Parallel(n_jobs=4)]: Done 552 tasks      | elapsed:    9.7s\n",
      "[Parallel(n_jobs=4)]: Done 602 tasks      | elapsed:   10.5s\n",
      "[Parallel(n_jobs=4)]: Done 652 tasks      | elapsed:   11.2s\n",
      "[Parallel(n_jobs=4)]: Done 706 tasks      | elapsed:   12.2s\n",
      "[Parallel(n_jobs=4)]: Done 760 tasks      | elapsed:   13.1s\n",
      "[Parallel(n_jobs=4)]: Done 818 tasks      | elapsed:   14.1s\n",
      "[Parallel(n_jobs=4)]: Done 876 tasks      | elapsed:   15.0s\n",
      "[Parallel(n_jobs=4)]: Done 938 tasks      | elapsed:   16.1s\n",
      "[Parallel(n_jobs=4)]: Done 1000 tasks      | elapsed:   17.0s\n",
      "[Parallel(n_jobs=4)]: Done 1066 tasks      | elapsed:   18.0s\n",
      "[Parallel(n_jobs=4)]: Done 1132 tasks      | elapsed:   19.1s\n",
      "[Parallel(n_jobs=4)]: Done 1202 tasks      | elapsed:   20.2s\n",
      "[Parallel(n_jobs=4)]: Done 1272 tasks      | elapsed:   21.4s\n",
      "[Parallel(n_jobs=4)]: Done 1346 tasks      | elapsed:   22.6s\n",
      "[Parallel(n_jobs=4)]: Done 1420 tasks      | elapsed:   23.8s\n",
      "[Parallel(n_jobs=4)]: Done 1498 tasks      | elapsed:   25.1s\n",
      "[Parallel(n_jobs=4)]: Done 1576 tasks      | elapsed:   26.2s\n",
      "[Parallel(n_jobs=4)]: Done 1658 tasks      | elapsed:   27.7s\n",
      "[Parallel(n_jobs=4)]: Done 1740 tasks      | elapsed:   29.2s\n",
      "[Parallel(n_jobs=4)]: Done 1826 tasks      | elapsed:   30.4s\n",
      "[Parallel(n_jobs=4)]: Done 1912 tasks      | elapsed:   31.8s\n",
      "[Parallel(n_jobs=4)]: Done 2002 tasks      | elapsed:   33.1s\n",
      "[Parallel(n_jobs=4)]: Done 2092 tasks      | elapsed:   34.5s\n",
      "[Parallel(n_jobs=4)]: Done 2186 tasks      | elapsed:   35.8s\n",
      "[Parallel(n_jobs=4)]: Batch computation too fast (0.19948024472099612s.) Setting batch_size=4.\n",
      "[Parallel(n_jobs=4)]: Done 2288 tasks      | elapsed:   37.4s\n",
      "[Parallel(n_jobs=4)]: Done 2484 tasks      | elapsed:   40.6s\n",
      "[Parallel(n_jobs=4)]: Done 2680 tasks      | elapsed:   43.8s\n",
      "[Parallel(n_jobs=4)]: Done 2884 tasks      | elapsed:   47.0s\n",
      "[Parallel(n_jobs=4)]: Done 3088 tasks      | elapsed:   50.4s\n",
      "[Parallel(n_jobs=4)]: Done 3300 tasks      | elapsed:   53.9s\n",
      "[Parallel(n_jobs=4)]: Done 3512 tasks      | elapsed:   57.3s\n",
      "[Parallel(n_jobs=4)]: Done 3732 tasks      | elapsed:  1.0min\n",
      "[Parallel(n_jobs=4)]: Done 3952 tasks      | elapsed:  1.1min\n",
      "[Parallel(n_jobs=4)]: Done 4180 tasks      | elapsed:  1.1min\n",
      "[Parallel(n_jobs=4)]: Done 4408 tasks      | elapsed:  1.2min\n",
      "[Parallel(n_jobs=4)]: Done 4644 tasks      | elapsed:  1.3min\n",
      "[Parallel(n_jobs=4)]: Done 4880 tasks      | elapsed:  1.3min\n",
      "[Parallel(n_jobs=4)]: Done 5124 tasks      | elapsed:  1.4min\n",
      "[Parallel(n_jobs=4)]: Done 5368 tasks      | elapsed:  1.5min\n",
      "[Parallel(n_jobs=4)]: Done 5620 tasks      | elapsed:  1.5min\n",
      "[Parallel(n_jobs=4)]: Done 5872 tasks      | elapsed:  1.6min\n",
      "[Parallel(n_jobs=4)]: Done 6132 tasks      | elapsed:  1.7min\n",
      "[Parallel(n_jobs=4)]: Done 6392 tasks      | elapsed:  1.7min\n",
      "[Parallel(n_jobs=4)]: Done 6660 tasks      | elapsed:  1.8min\n",
      "[Parallel(n_jobs=4)]: Done 6928 tasks      | elapsed:  1.9min\n",
      "[Parallel(n_jobs=4)]: Done 7204 tasks      | elapsed:  1.9min\n",
      "[Parallel(n_jobs=4)]: Done 7480 tasks      | elapsed:  2.0min\n",
      "[Parallel(n_jobs=4)]: Done 7764 tasks      | elapsed:  2.1min\n",
      "[Parallel(n_jobs=4)]: Done 8048 tasks      | elapsed:  2.2min\n",
      "[Parallel(n_jobs=4)]: Done 8340 tasks      | elapsed:  2.2min\n",
      "[Parallel(n_jobs=4)]: Done 8632 tasks      | elapsed:  2.3min\n",
      "[Parallel(n_jobs=4)]: Done 8932 tasks      | elapsed:  2.4min\n",
      "[Parallel(n_jobs=4)]: Done 9232 tasks      | elapsed:  2.5min\n",
      "[Parallel(n_jobs=4)]: Done 9540 tasks      | elapsed:  2.6min\n",
      "[Parallel(n_jobs=4)]: Done 9848 tasks      | elapsed:  2.7min\n",
      "[Parallel(n_jobs=4)]: Done 10164 tasks      | elapsed:  2.7min\n",
      "[Parallel(n_jobs=4)]: Done 10480 tasks      | elapsed:  2.8min\n",
      "[Parallel(n_jobs=4)]: Done 10804 tasks      | elapsed:  2.9min\n",
      "[Parallel(n_jobs=4)]: Done 11128 tasks      | elapsed:  3.0min\n",
      "[Parallel(n_jobs=4)]: Done 11460 tasks      | elapsed:  3.1min\n",
      "[Parallel(n_jobs=4)]: Done 11792 tasks      | elapsed:  3.2min\n",
      "[Parallel(n_jobs=4)]: Done 12132 tasks      | elapsed:  3.2min\n",
      "[Parallel(n_jobs=4)]: Done 12472 tasks      | elapsed:  3.3min\n",
      "[Parallel(n_jobs=4)]: Done 12820 tasks      | elapsed:  3.4min\n",
      "[Parallel(n_jobs=4)]: Done 13168 tasks      | elapsed:  3.5min\n",
      "[Parallel(n_jobs=4)]: Done 13524 tasks      | elapsed:  3.6min\n",
      "[Parallel(n_jobs=4)]: Done 13880 tasks      | elapsed:  3.7min\n",
      "[Parallel(n_jobs=4)]: Done 14244 tasks      | elapsed:  3.8min\n",
      "[Parallel(n_jobs=4)]: Done 14608 tasks      | elapsed:  3.9min\n",
      "[Parallel(n_jobs=4)]: Done 14980 tasks      | elapsed:  4.0min\n",
      "[Parallel(n_jobs=4)]: Done 15352 tasks      | elapsed:  4.1min\n",
      "[Parallel(n_jobs=4)]: Done 15732 tasks      | elapsed:  4.2min\n",
      "[Parallel(n_jobs=4)]: Done 16112 tasks      | elapsed:  4.3min\n",
      "[Parallel(n_jobs=4)]: Done 16500 tasks      | elapsed:  4.4min\n",
      "[Parallel(n_jobs=4)]: Done 16888 tasks      | elapsed:  4.5min\n",
      "[Parallel(n_jobs=4)]: Done 17284 tasks      | elapsed:  4.6min\n",
      "[Parallel(n_jobs=4)]: Done 17680 tasks      | elapsed:  4.7min\n",
      "[Parallel(n_jobs=4)]: Done 18084 tasks      | elapsed:  4.8min\n",
      "[Parallel(n_jobs=4)]: Done 18488 tasks      | elapsed:  4.9min\n",
      "[Parallel(n_jobs=4)]: Done 18900 tasks      | elapsed:  5.1min\n",
      "[Parallel(n_jobs=4)]: Done 19312 tasks      | elapsed:  5.2min\n",
      "[Parallel(n_jobs=4)]: Done 19732 tasks      | elapsed:  5.3min\n",
      "[Parallel(n_jobs=4)]: Done 20152 tasks      | elapsed:  5.5min\n",
      "[Parallel(n_jobs=4)]: Done 20580 tasks      | elapsed:  5.7min\n",
      "[Parallel(n_jobs=4)]: Done 21008 tasks      | elapsed:  5.8min\n",
      "[Parallel(n_jobs=4)]: Done 21444 tasks      | elapsed:  5.9min\n",
      "[Parallel(n_jobs=4)]: Done 21880 tasks      | elapsed:  6.0min\n",
      "[Parallel(n_jobs=4)]: Done 22324 tasks      | elapsed:  6.1min\n",
      "[Parallel(n_jobs=4)]: Done 22768 tasks      | elapsed:  6.3min\n",
      "[Parallel(n_jobs=4)]: Done 23220 tasks      | elapsed:  6.4min\n",
      "[Parallel(n_jobs=4)]: Done 23672 tasks      | elapsed:  6.5min\n",
      "[Parallel(n_jobs=4)]: Done 24132 tasks      | elapsed:  6.6min\n",
      "[Parallel(n_jobs=4)]: Done 24592 tasks      | elapsed:  6.7min\n",
      "[Parallel(n_jobs=4)]: Done 25060 tasks      | elapsed:  6.9min\n",
      "[Parallel(n_jobs=4)]: Done 25528 tasks      | elapsed:  7.0min\n",
      "[Parallel(n_jobs=4)]: Done 26004 tasks      | elapsed:  7.1min\n",
      "[Parallel(n_jobs=4)]: Done 26480 tasks      | elapsed:  7.2min\n",
      "[Parallel(n_jobs=4)]: Done 26964 tasks      | elapsed:  7.4min\n",
      "[Parallel(n_jobs=4)]: Done 27448 tasks      | elapsed:  7.5min\n",
      "[Parallel(n_jobs=4)]: Done 27940 tasks      | elapsed:  7.6min\n",
      "[Parallel(n_jobs=4)]: Done 28420 tasks      | elapsed:  7.8min\n",
      "[Parallel(n_jobs=4)]: Done 28427 out of 28427 | elapsed:  7.8min finished\n",
      "[Parallel(n_jobs=4)]: Using backend MultiprocessingBackend with 4 concurrent workers.\n",
      "[Parallel(n_jobs=4)]: Batch computation too fast (0.02776336669921875s.) Setting batch_size=2.\n",
      "[Parallel(n_jobs=4)]: Done   5 tasks      | elapsed:    0.7s\n",
      "[Parallel(n_jobs=4)]: Batch computation too fast (0.19893956184387207s.) Setting batch_size=4.\n",
      "[Parallel(n_jobs=4)]: Done  12 tasks      | elapsed:    0.9s\n",
      "[Parallel(n_jobs=4)]: Done  28 tasks      | elapsed:    1.2s\n",
      "[Parallel(n_jobs=4)]: Done  56 tasks      | elapsed:    1.8s\n",
      "[Parallel(n_jobs=4)]: Done  92 tasks      | elapsed:    2.3s\n",
      "[Parallel(n_jobs=4)]: Done 128 tasks      | elapsed:    2.8s\n",
      "[Parallel(n_jobs=4)]: Done 172 tasks      | elapsed:    3.4s\n",
      "[Parallel(n_jobs=4)]: Done 216 tasks      | elapsed:    4.1s\n",
      "[Parallel(n_jobs=4)]: Done 268 tasks      | elapsed:    4.9s\n",
      "[Parallel(n_jobs=4)]: Done 320 tasks      | elapsed:    5.8s\n",
      "[Parallel(n_jobs=4)]: Done 380 tasks      | elapsed:    6.7s\n",
      "[Parallel(n_jobs=4)]: Done 440 tasks      | elapsed:    7.7s\n",
      "[Parallel(n_jobs=4)]: Done 508 tasks      | elapsed:    8.7s\n",
      "[Parallel(n_jobs=4)]: Done 576 tasks      | elapsed:   10.0s\n",
      "[Parallel(n_jobs=4)]: Done 652 tasks      | elapsed:   11.3s\n",
      "[Parallel(n_jobs=4)]: Done 728 tasks      | elapsed:   12.4s\n",
      "[Parallel(n_jobs=4)]: Done 812 tasks      | elapsed:   13.8s\n",
      "[Parallel(n_jobs=4)]: Done 896 tasks      | elapsed:   15.3s\n",
      "[Parallel(n_jobs=4)]: Done 988 tasks      | elapsed:   16.9s\n",
      "[Parallel(n_jobs=4)]: Done 1080 tasks      | elapsed:   18.5s\n",
      "[Parallel(n_jobs=4)]: Done 1180 tasks      | elapsed:   20.1s\n",
      "[Parallel(n_jobs=4)]: Done 1280 tasks      | elapsed:   21.8s\n",
      "[Parallel(n_jobs=4)]: Done 1388 tasks      | elapsed:   23.4s\n",
      "[Parallel(n_jobs=4)]: Done 1496 tasks      | elapsed:   25.1s\n",
      "[Parallel(n_jobs=4)]: Done 1612 tasks      | elapsed:   27.1s\n",
      "[Parallel(n_jobs=4)]: Done 1728 tasks      | elapsed:   28.9s\n",
      "[Parallel(n_jobs=4)]: Done 1852 tasks      | elapsed:   31.0s\n",
      "[Parallel(n_jobs=4)]: Done 1976 tasks      | elapsed:   33.0s\n",
      "[Parallel(n_jobs=4)]: Done 2108 tasks      | elapsed:   35.1s\n",
      "[Parallel(n_jobs=4)]: Done 2240 tasks      | elapsed:   37.1s\n",
      "[Parallel(n_jobs=4)]: Done 2380 tasks      | elapsed:   39.4s\n",
      "[Parallel(n_jobs=4)]: Done 2520 tasks      | elapsed:   41.5s\n",
      "[Parallel(n_jobs=4)]: Done 2668 tasks      | elapsed:   43.8s\n",
      "[Parallel(n_jobs=4)]: Done 2816 tasks      | elapsed:   46.1s\n",
      "[Parallel(n_jobs=4)]: Done 2972 tasks      | elapsed:   49.1s\n",
      "[Parallel(n_jobs=4)]: Done 3128 tasks      | elapsed:   51.5s\n",
      "[Parallel(n_jobs=4)]: Done 3292 tasks      | elapsed:   54.3s\n",
      "[Parallel(n_jobs=4)]: Done 3456 tasks      | elapsed:   56.8s\n",
      "[Parallel(n_jobs=4)]: Done 3628 tasks      | elapsed:   59.5s\n",
      "[Parallel(n_jobs=4)]: Done 3800 tasks      | elapsed:  1.0min\n",
      "[Parallel(n_jobs=4)]: Done 3980 tasks      | elapsed:  1.1min\n",
      "[Parallel(n_jobs=4)]: Done 4160 tasks      | elapsed:  1.1min\n",
      "[Parallel(n_jobs=4)]: Done 4348 tasks      | elapsed:  1.2min\n",
      "[Parallel(n_jobs=4)]: Done 4536 tasks      | elapsed:  1.2min\n",
      "[Parallel(n_jobs=4)]: Done 4732 tasks      | elapsed:  1.3min\n",
      "[Parallel(n_jobs=4)]: Done 4928 tasks      | elapsed:  1.4min\n",
      "[Parallel(n_jobs=4)]: Done 5132 tasks      | elapsed:  1.4min\n",
      "[Parallel(n_jobs=4)]: Done 5336 tasks      | elapsed:  1.5min\n",
      "[Parallel(n_jobs=4)]: Done 5548 tasks      | elapsed:  1.5min\n",
      "[Parallel(n_jobs=4)]: Done 5760 tasks      | elapsed:  1.6min\n",
      "[Parallel(n_jobs=4)]: Done 5980 tasks      | elapsed:  1.6min\n",
      "[Parallel(n_jobs=4)]: Done 6200 tasks      | elapsed:  1.7min\n",
      "[Parallel(n_jobs=4)]: Done 6428 tasks      | elapsed:  1.8min\n",
      "[Parallel(n_jobs=4)]: Done 6656 tasks      | elapsed:  1.8min\n",
      "[Parallel(n_jobs=4)]: Done 6892 tasks      | elapsed:  1.9min\n",
      "[Parallel(n_jobs=4)]: Done 7101 out of 7108 | elapsed:  1.9min remaining:    0.1s\n",
      "[Parallel(n_jobs=4)]: Done 7108 out of 7108 | elapsed:  1.9min finished\n",
      "[Parallel(n_jobs=4)]: Using backend MultiprocessingBackend with 4 concurrent workers.\n",
      "[Parallel(n_jobs=4)]: Batch computation too fast (0.08346748352050781s.) Setting batch_size=2.\n",
      "[Parallel(n_jobs=4)]: Done   5 tasks      | elapsed:    0.6s\n",
      "[Parallel(n_jobs=4)]: Batch computation too fast (0.14698576927185059s.) Setting batch_size=4.\n",
      "[Parallel(n_jobs=4)]: Done  12 tasks      | elapsed:    0.8s\n",
      "[Parallel(n_jobs=4)]: Done  28 tasks      | elapsed:    1.0s\n",
      "[Parallel(n_jobs=4)]: Done  56 tasks      | elapsed:    1.5s\n",
      "[Parallel(n_jobs=4)]: Done  92 tasks      | elapsed:    2.1s\n",
      "[Parallel(n_jobs=4)]: Done 128 tasks      | elapsed:    2.7s\n",
      "[Parallel(n_jobs=4)]: Done 172 tasks      | elapsed:    3.4s\n",
      "[Parallel(n_jobs=4)]: Done 216 tasks      | elapsed:    4.1s\n",
      "[Parallel(n_jobs=4)]: Done 268 tasks      | elapsed:    5.0s\n",
      "[Parallel(n_jobs=4)]: Done 320 tasks      | elapsed:    5.7s\n",
      "[Parallel(n_jobs=4)]: Done 380 tasks      | elapsed:    6.5s\n",
      "[Parallel(n_jobs=4)]: Done 440 tasks      | elapsed:    7.6s\n",
      "[Parallel(n_jobs=4)]: Done 508 tasks      | elapsed:    8.6s\n",
      "[Parallel(n_jobs=4)]: Done 576 tasks      | elapsed:    9.7s\n",
      "[Parallel(n_jobs=4)]: Done 652 tasks      | elapsed:   10.8s\n",
      "[Parallel(n_jobs=4)]: Done 728 tasks      | elapsed:   12.1s\n",
      "[Parallel(n_jobs=4)]: Done 812 tasks      | elapsed:   13.4s\n",
      "[Parallel(n_jobs=4)]: Done 896 tasks      | elapsed:   14.8s\n",
      "[Parallel(n_jobs=4)]: Done 988 tasks      | elapsed:   16.2s\n",
      "[Parallel(n_jobs=4)]: Done 1080 tasks      | elapsed:   17.7s\n",
      "[Parallel(n_jobs=4)]: Done 1180 tasks      | elapsed:   19.3s\n",
      "[Parallel(n_jobs=4)]: Done 1280 tasks      | elapsed:   21.0s\n",
      "[Parallel(n_jobs=4)]: Done 1388 tasks      | elapsed:   22.6s\n",
      "[Parallel(n_jobs=4)]: Done 1496 tasks      | elapsed:   24.3s\n",
      "[Parallel(n_jobs=4)]: Done 1612 tasks      | elapsed:   26.2s\n",
      "[Parallel(n_jobs=4)]: Done 1728 tasks      | elapsed:   28.2s\n",
      "[Parallel(n_jobs=4)]: Done 1852 tasks      | elapsed:   30.4s\n",
      "[Parallel(n_jobs=4)]: Done 1976 tasks      | elapsed:   32.5s\n",
      "[Parallel(n_jobs=4)]: Done 2108 tasks      | elapsed:   34.6s\n",
      "[Parallel(n_jobs=4)]: Done 2240 tasks      | elapsed:   36.7s\n",
      "[Parallel(n_jobs=4)]: Done 2380 tasks      | elapsed:   39.0s\n",
      "[Parallel(n_jobs=4)]: Done 2520 tasks      | elapsed:   41.3s\n",
      "[Parallel(n_jobs=4)]: Done 2668 tasks      | elapsed:   43.9s\n",
      "[Parallel(n_jobs=4)]: Done 2816 tasks      | elapsed:   46.2s\n",
      "[Parallel(n_jobs=4)]: Done 2972 tasks      | elapsed:   49.0s\n",
      "[Parallel(n_jobs=4)]: Done 3128 tasks      | elapsed:   51.6s\n",
      "[Parallel(n_jobs=4)]: Done 3292 tasks      | elapsed:   54.6s\n",
      "[Parallel(n_jobs=4)]: Done 3456 tasks      | elapsed:   57.2s\n",
      "[Parallel(n_jobs=4)]: Done 3628 tasks      | elapsed:  1.0min\n",
      "[Parallel(n_jobs=4)]: Done 3800 tasks      | elapsed:  1.1min\n",
      "[Parallel(n_jobs=4)]: Done 3980 tasks      | elapsed:  1.1min\n",
      "[Parallel(n_jobs=4)]: Done 4160 tasks      | elapsed:  1.2min\n",
      "[Parallel(n_jobs=4)]: Done 4348 tasks      | elapsed:  1.2min\n",
      "[Parallel(n_jobs=4)]: Done 4536 tasks      | elapsed:  1.3min\n",
      "[Parallel(n_jobs=4)]: Done 4732 tasks      | elapsed:  1.3min\n",
      "[Parallel(n_jobs=4)]: Done 4928 tasks      | elapsed:  1.4min\n",
      "[Parallel(n_jobs=4)]: Done 5132 tasks      | elapsed:  1.4min\n",
      "[Parallel(n_jobs=4)]: Done 5336 tasks      | elapsed:  1.5min\n",
      "[Parallel(n_jobs=4)]: Done 5548 tasks      | elapsed:  1.5min\n",
      "[Parallel(n_jobs=4)]: Done 5760 tasks      | elapsed:  1.6min\n",
      "[Parallel(n_jobs=4)]: Done 5980 tasks      | elapsed:  1.7min\n",
      "[Parallel(n_jobs=4)]: Done 6200 tasks      | elapsed:  1.7min\n",
      "[Parallel(n_jobs=4)]: Done 6428 tasks      | elapsed:  1.8min\n",
      "[Parallel(n_jobs=4)]: Done 6656 tasks      | elapsed:  1.8min\n",
      "[Parallel(n_jobs=4)]: Done 6892 tasks      | elapsed:  1.9min\n",
      "[Parallel(n_jobs=4)]: Done 7128 tasks      | elapsed:  2.0min\n",
      "[Parallel(n_jobs=4)]: Done 7372 tasks      | elapsed:  2.0min\n",
      "[Parallel(n_jobs=4)]: Done 7616 tasks      | elapsed:  2.1min\n",
      "[Parallel(n_jobs=4)]: Done 7868 tasks      | elapsed:  2.2min\n",
      "[Parallel(n_jobs=4)]: Done 8120 tasks      | elapsed:  2.2min\n",
      "[Parallel(n_jobs=4)]: Done 8380 tasks      | elapsed:  2.3min\n",
      "[Parallel(n_jobs=4)]: Done 8640 tasks      | elapsed:  2.4min\n",
      "[Parallel(n_jobs=4)]: Done 8877 out of 8884 | elapsed:  2.4min remaining:    0.1s\n",
      "[Parallel(n_jobs=4)]: Done 8884 out of 8884 | elapsed:  2.4min finished\n"
     ]
    }
   ],
   "source": [
    "def load_all_images(index, _id):\n",
    "    path = \"/kaggle/input/fashion-product-images-dataset/fashion-dataset/images/\" + _id + \".jpg\"\n",
    "    _image = Image.open(path)\n",
    "    _image = _image.convert('L') # grayscale\n",
    "    _image = _image.resize(SCALING_SIZE) # resize\n",
    "    _image = np.asarray(_image)\n",
    "    return _image\n",
    "\n",
    "\n",
    "# parallely load all images for individual datasets\n",
    "delayed_funcs = [delayed(load_all_images)(index, _id) for index, _id in enumerate(x_train['id'])]\n",
    "parallel_pool = Parallel(n_jobs=NUM_CORES, backend = 'multiprocessing', verbose = 10)\n",
    "train_image = parallel_pool(delayed_funcs)\n",
    "\n",
    "delayed_funcs = [delayed(load_all_images)(index, _id) for index, _id in enumerate(x_val['id'])]\n",
    "parallel_pool = Parallel(n_jobs=NUM_CORES, backend = 'multiprocessing', verbose = 10)\n",
    "val_image = parallel_pool(delayed_funcs)\n",
    "\n",
    "delayed_funcs = [delayed(load_all_images)(index, _id) for index, _id in enumerate(x_test['id'])]\n",
    "parallel_pool = Parallel(n_jobs=NUM_CORES, backend = 'multiprocessing', verbose = 10)\n",
    "test_image = parallel_pool(delayed_funcs)"
   ]
  },
  {
   "cell_type": "markdown",
   "id": "2bdea566",
   "metadata": {
    "papermill": {
     "duration": 0.031738,
     "end_time": "2024-03-13T15:18:40.515014",
     "exception": false,
     "start_time": "2024-03-13T15:18:40.483276",
     "status": "completed"
    },
    "tags": []
   },
   "source": [
    "# **Showing sample of the imported images**"
   ]
  },
  {
   "cell_type": "code",
   "execution_count": 13,
   "id": "7165eded",
   "metadata": {
    "execution": {
     "iopub.execute_input": "2024-03-13T15:18:40.583131Z",
     "iopub.status.busy": "2024-03-13T15:18:40.582049Z",
     "iopub.status.idle": "2024-03-13T15:18:41.528482Z",
     "shell.execute_reply": "2024-03-13T15:18:41.527391Z"
    },
    "papermill": {
     "duration": 0.984596,
     "end_time": "2024-03-13T15:18:41.531822",
     "exception": false,
     "start_time": "2024-03-13T15:18:40.547226",
     "status": "completed"
    },
    "tags": []
   },
   "outputs": [
    {
     "data": {
      "image/png": "[encoded data removed]",
      "text/plain": [
       "<Figure size 1000x1000 with 8 Axes>"
      ]
     },
     "metadata": {},
     "output_type": "display_data"
    }
   ],
   "source": [
    "random_indices = np.random.choice(range(len(train_image)), size=8, replace=False)\n",
    "\n",
    "fig, axes = plt.subplots(2, 4, figsize=(10, 10))  # Create 2 rows and 4 columns of subplots\n",
    "\n",
    "for i, ax in enumerate(axes.flatten()):  # Flatten the 2D array of axes into 1D for easy iteration\n",
    "    ax.imshow(train_image[random_indices[i]], cmap='gray')\n",
    "    ax.set_title(f'Image {random_indices[i]}')  # Set the title for each subplot\n",
    "    ax.axis('off')\n",
    "\n",
    "plt.tight_layout()  # Adjust the layout to make room for the titles\n",
    "plt.show()"
   ]
  }
 ],
 "metadata": {
  "kaggle": {
   "accelerator": "none",
   "dataSources": [
    {
     "datasetId": 139630,
     "sourceId": 329006,
     "sourceType": "datasetVersion"
    }
   ],
   "dockerImageVersionId": 30664,
   "isGpuEnabled": false,
   "isInternetEnabled": true,
   "language": "python",
   "sourceType": "notebook"
  },
  "kernelspec": {
   "display_name": "Python 3",
   "language": "python",
   "name": "python3"
  },
  "language_info": {
   "codemirror_mode": {
    "name": "ipython",
    "version": 3
   },
   "file_extension": ".py",
   "mimetype": "text/x-python",
   "name": "python",
   "nbconvert_exporter": "python",
   "pygments_lexer": "ipython3",
   "version": "3.10.13"
  },
  "papermill": {
   "default_parameters": {},
   "duration": 915.707167,
   "end_time": "2024-03-13T15:18:44.192704",
   "environment_variables": {},
   "exception": null,
   "input_path": "__notebook__.ipynb",
   "output_path": "__notebook__.ipynb",
   "parameters": {},
   "start_time": "2024-03-13T15:03:28.485537",
   "version": "2.5.0"
  }
 },
 "nbformat": 4,
 "nbformat_minor": 5
}
